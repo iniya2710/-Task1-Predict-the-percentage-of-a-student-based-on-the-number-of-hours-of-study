{
  "nbformat": 4,
  "nbformat_minor": 0,
  "metadata": {
    "colab": {
      "name": "Untitled0.ipynb",
      "provenance": [],
      "mount_file_id": "1PPWDcSQjKssY9_Hwf2tSdgnSheUm-FPL",
      "authorship_tag": "ABX9TyMNzn/cEItVXhzVeWP4Pfp7",
      "include_colab_link": true
    },
    "kernelspec": {
      "name": "python3",
      "display_name": "Python 3"
    },
    "language_info": {
      "name": "python"
    }
  },
  "cells": [
    {
      "cell_type": "markdown",
      "metadata": {
        "id": "view-in-github",
        "colab_type": "text"
      },
      "source": [
        "<a href=\"https://colab.research.google.com/github/iniya2710/-Task1-Predict-the-percentage-of-a-student-based-on-the-number-of-hours-of-study/blob/main/writescript.ipynb\" target=\"_parent\"><img src=\"https://colab.research.google.com/assets/colab-badge.svg\" alt=\"Open In Colab\"/></a>"
      ]
    },
    {
      "cell_type": "code",
      "execution_count": 1,
      "metadata": {
        "colab": {
          "base_uri": "https://localhost:8080/"
        },
        "id": "DeL6_SS3dC8i",
        "outputId": "9e0bf743-c547-4e87-ddb5-582520bf29be"
      },
      "outputs": [
        {
          "output_type": "stream",
          "name": "stdout",
          "text": [
            "Writing script1.py\n"
          ]
        }
      ],
      "source": [
        "%%writefile script1.py\n",
        "n1= int(input('Enter the first number:'))\n",
        "n2 = int(input('Enter the second number:'))"
      ]
    },
    {
      "cell_type": "code",
      "source": [
        "%%writefile -a script1.py\n",
        "if n1>n2:\n",
        "  print('The number',n1,'is greater than',n2) \n",
        "else:\n",
        "  print('The number',n2,'is greater than',n1)"
      ],
      "metadata": {
        "colab": {
          "base_uri": "https://localhost:8080/"
        },
        "id": "iJULTVMYh-dR",
        "outputId": "9d31e3d9-f30c-4ebd-8ba8-a5354353d4e1"
      },
      "execution_count": 2,
      "outputs": [
        {
          "output_type": "stream",
          "name": "stdout",
          "text": [
            "Appending to script1.py\n"
          ]
        }
      ]
    },
    {
      "cell_type": "code",
      "source": [
        "%%writefile script2.py\n",
        "n1= int(input('Enter the first number:'))\n",
        "n2 = int(input('Enter the second number:'))\n"
      ],
      "metadata": {
        "colab": {
          "base_uri": "https://localhost:8080/"
        },
        "id": "Lh9JnI_peKR6",
        "outputId": "c603f571-fcbe-4c50-a1d9-9ba92645c77f"
      },
      "execution_count": 3,
      "outputs": [
        {
          "output_type": "stream",
          "name": "stdout",
          "text": [
            "Writing script2.py\n"
          ]
        }
      ]
    },
    {
      "cell_type": "code",
      "source": [
        "%%writefile -a script2.py\n",
        "if n1<n2:\n",
        "  print('The number',n1,'is smaller than',n2) \n",
        "else:\n",
        "  print('The number',n2,'is smaller than',n1)"
      ],
      "metadata": {
        "colab": {
          "base_uri": "https://localhost:8080/"
        },
        "id": "M1ffmE1Fgp93",
        "outputId": "c8026db3-ddaa-4510-e13e-863ab59c9893"
      },
      "execution_count": 4,
      "outputs": [
        {
          "output_type": "stream",
          "name": "stdout",
          "text": [
            "Appending to script2.py\n"
          ]
        }
      ]
    }
  ]
}